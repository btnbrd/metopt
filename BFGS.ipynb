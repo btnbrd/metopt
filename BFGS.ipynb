{
 "cells": [
  {
   "cell_type": "code",
   "execution_count": 1,
   "metadata": {},
   "outputs": [],
   "source": [
    "import numpy as np\n",
    "import matplotlib.pyplot as plt"
   ]
  },
  {
   "cell_type": "code",
   "execution_count": 137,
   "metadata": {},
   "outputs": [],
   "source": [
    "def f1(x):\n",
    "    '''\n",
    "    FUNCTION TO BE OPTIMISED\n",
    "    '''\n",
    "\n",
    "    return (100-0.1)/8.0 * (x[0]**2 + np.sum((x[2:] - x[1:-1])**2) - 2*x[0]) + 0.1/2*np.linalg.norm(x)**2\n",
    "\n",
    "#     d = len(x)\n",
    "#     return sum(100*(x[i+1]-x[i]**2)**2 + (x[i]-1)**2 for i in range(d-1))"
   ]
  },
  {
   "cell_type": "code",
   "execution_count": 136,
   "metadata": {},
   "outputs": [],
   "source": [
    "def grad(f,x): \n",
    "    '''\n",
    "    CENTRAL FINITE DIFFERENCE CALCULATION\n",
    "    '''\n",
    "    h = np.cbrt(np.finfo(float).eps)\n",
    "    d = len(x)\n",
    "    nabla = np.zeros(d)\n",
    "    for i in range(d): \n",
    "        x_for = np.copy(x) \n",
    "        x_back = np.copy(x)\n",
    "        x_for[i] += h \n",
    "        x_back[i] -= h \n",
    "        nabla[i] = (f(x_for) - f(x_back))/(2*h) \n",
    "    return nabla "
   ]
  },
  {
   "cell_type": "code",
   "execution_count": 79,
   "metadata": {},
   "outputs": [],
   "source": [
    "def line_search(f,x,p,nabla):\n",
    "    '''\n",
    "    BACKTRACK LINE SEARCH WITH WOLFE CONDITIONS\n",
    "    '''\n",
    "    a = 1\n",
    "    c1 = 1e-4 \n",
    "    c2 = 0.9 \n",
    "    fx = f(x)\n",
    "    x_new = x + a * p \n",
    "    nabla_new = grad(f,x_new)\n",
    "    while f(x_new) >= fx + (c1*a*nabla.T@p) or nabla_new.T@p <= c2*nabla.T@p : \n",
    "        a *= 0.5\n",
    "        x_new = x + a * p \n",
    "        nabla_new = grad(f,x_new)\n",
    "    return a"
   ]
  },
  {
   "cell_type": "code",
   "execution_count": 159,
   "metadata": {},
   "outputs": [],
   "source": [
    "def BFGS( f, x0, max_it, tolerance, plot=False):\n",
    "    '''\n",
    "    DESCRIPTION\n",
    "    BFGS Quasi-Newton Method, implemented as described in Nocedal:\n",
    "    Numerical Optimisation.\n",
    "    INPUTS:\n",
    "    f:      function to be optimised \n",
    "    x0:     intial guess\n",
    "    max_it: maximum iterations \n",
    "    plot:   if the problem is 2 dimensional, returns \n",
    "            a trajectory plot of the optimisation scheme.\n",
    "    OUTPUTS: \n",
    "    x:      the optimal solution of the function f \n",
    "    '''\n",
    "    d = len(x0) # dimension of problem \n",
    "    nabla = grad(f,x0) # initial gradient \n",
    "    H = np.eye(d) # initial hessian\n",
    "    x = x0[:]\n",
    "    it = 2 \n",
    "    if plot == True: \n",
    "        if d == 2: \n",
    "            x_store =  np.zeros((1,2)) # storing x values \n",
    "            x_store[0,:] = x \n",
    "        else: \n",
    "            print('Too many dimensions to produce trajectory plot!')\n",
    "            plot = False\n",
    "\n",
    "    while np.linalg.norm(nabla) > tolerance: # while gradient is positive\n",
    "        if it > max_it: \n",
    "            print('Maximum iterations reached!')\n",
    "            break\n",
    "        it += 1\n",
    "        p = -H@nabla # search direction (Newton Method)\n",
    "        a = line_search(f,x,p,nabla) # line search \n",
    "        s = a * p \n",
    "        x_new = x + a * p \n",
    "        nabla_new = grad(f,x_new)\n",
    "        \n",
    "        y = nabla_new - nabla \n",
    "        y = np.array([y])\n",
    "        \n",
    "        s = np.array([s])\n",
    "        y = np.reshape(y,(d,1))\n",
    "        s = np.reshape(s,(d,1))\n",
    "        \n",
    "        r = 1/(y.T@s)\n",
    "        li = (np.eye(d)-(r*((s@(y.T)))))\n",
    "        ri = (np.eye(d)-(r*((y@(s.T)))))\n",
    "        hess_inter = li@H@ri\n",
    "        H = hess_inter + (r*((s@(s.T)))) # BFGS Update\n",
    "        nabla = nabla_new[:] \n",
    "        x = x_new[:]\n",
    "        if plot == True:\n",
    "            x_store = np.append(x_store,[x],axis=0) # storing x\n",
    "    if plot == True:\n",
    "        x1 = np.linspace(min(x_store[:,0]-0.5),max(x_store[:,0]+0.5),30)\n",
    "        x2 = np.linspace(min(x_store[:,1]-0.5),max(x_store[:,1]+0.5),30)\n",
    "        X1,X2 = np.meshgrid(x1,x2)\n",
    "        Z = f(np.array([X1,X2]))\n",
    "        plt.figure()\n",
    "        plt.title('OPTIMAL AT: '+str(x_store[-1,:])+'\\n IN '+str(len(x_store))+' ITERATIONS')\n",
    "        plt.contourf(X1,X2,Z,30,cmap='jet')\n",
    "        plt.colorbar()\n",
    "        plt.plot(x_store[:,0],x_store[:,1],c='w')\n",
    "        plt.xlabel('$x_1$'); plt.ylabel('$x_2$')\n",
    "        plt.show()\n",
    "    return x"
   ]
  },
  {
   "cell_type": "code",
   "execution_count": 160,
   "metadata": {},
   "outputs": [
    {
     "data": {
      "image/png": "[encoded data removed]",
      "text/plain": [
       "<Figure size 432x288 with 2 Axes>"
      ]
     },
     "metadata": {
      "needs_background": "light"
     },
     "output_type": "display_data"
    },
    {
     "name": "stdout",
     "output_type": "stream",
     "text": [
      "[ 9.96011951e-01 -1.57817944e-09]\n"
     ]
    }
   ],
   "source": [
    "x_opt = BFGS( f, np.array([-1.2,1]), 100, 1e-5, True)\n",
    "print(x_opt)"
   ]
  },
  {
   "cell_type": "code",
   "execution_count": 153,
   "metadata": {},
   "outputs": [],
   "source": [
    "alpha = 0.1\n",
    "functions = [\n",
    "    lambda x: (100-0.1)/8.0 * (x[0]**2 + np.sum(np.power(x[2:] - x[1:-1], 2)) - 2*x[0])+ 0.1/2*np.linalg.norm(x)**2,\n",
    "    lambda x, y, L, W, alpha, c: -np.dot(L, x) - np.dot(W, y) + np.log(np.sum(np.exp(-c*alpha + (x[:, None] + y)))),\n",
    "    lambda x: (x[0] - 1)**2 + alpha* np.sum((x[1:] - np.power(x[:-1], 2))**2)\n",
    "]"
   ]
  },
  {
   "cell_type": "code",
   "execution_count": 154,
   "metadata": {},
   "outputs": [
    {
     "data": {
      "text/plain": [
       "-5.350462962962963"
      ]
     },
     "execution_count": 154,
     "metadata": {},
     "output_type": "execute_result"
    }
   ],
   "source": [
    "f = functions[0]\n",
    "f(np.linspace(1, 3, 10))"
   ]
  },
  {
   "cell_type": "code",
   "execution_count": null,
   "metadata": {},
   "outputs": [],
   "source": []
  }
 ],
 "metadata": {
  "kernelspec": {
   "display_name": "Python 3",
   "language": "python",
   "name": "python3"
  },
  "language_info": {
   "codemirror_mode": {
    "name": "ipython",
    "version": 3
   },
   "file_extension": ".py",
   "mimetype": "text/x-python",
   "name": "python",
   "nbconvert_exporter": "python",
   "pygments_lexer": "ipython3",
   "version": "3.8.5"
  }
 },
 "nbformat": 4,
 "nbformat_minor": 4
}
